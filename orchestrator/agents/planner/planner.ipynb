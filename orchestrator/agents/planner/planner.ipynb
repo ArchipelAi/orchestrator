{
 "cells": [
  {
   "cell_type": "code",
   "execution_count": 33,
   "metadata": {},
   "outputs": [
    {
     "name": "stderr",
     "output_type": "stream",
     "text": [
      "/Users/Lukas_1/anaconda3/envs/myenv/lib/python3.12/site-packages/langchain_core/utils/utils.py:161: UserWarning: WARNING! top_p is not default parameter.\n",
      "                top_p was transferred to model_kwargs.\n",
      "                Please confirm that top_p is what you intended.\n",
      "  warnings.warn(\n"
     ]
    },
    {
     "name": "stdout",
     "output_type": "stream",
     "text": [
      "message=['Research local pizza delivery services in Munich that offer vegetarian options.', 'Select a pizza delivery service based on reviews and menu options.', \"Choose a vegetarian pizza from the selected service's menu.\", 'Provide the delivery address: Arcisstraße 21, Munich.', 'Place the order for the vegetarian pizza.', 'Confirm the order details and estimated delivery time.', 'Notify the human about the order and payment method upon delivery.']\n"
     ]
    },
    {
     "name": "stderr",
     "output_type": "stream",
     "text": [
      "/Users/Lukas_1/anaconda3/envs/myenv/lib/python3.12/site-packages/langchain_core/utils/utils.py:161: UserWarning: WARNING! top_p is not default parameter.\n",
      "                top_p was transferred to model_kwargs.\n",
      "                Please confirm that top_p is what you intended.\n",
      "  warnings.warn(\n"
     ]
    },
    {
     "ename": "TypeError",
     "evalue": "Object of type 'FieldInfo' is not JSON serializable",
     "output_type": "error",
     "traceback": [
      "\u001b[0;31m---------------------------------------------------------------------------\u001b[0m",
      "\u001b[0;31mTypeError\u001b[0m                                 Traceback (most recent call last)",
      "Cell \u001b[0;32mIn[33], line 84\u001b[0m\n\u001b[1;32m     81\u001b[0m     \u001b[38;5;28mprint\u001b[39m(test_return)\n\u001b[1;32m     83\u001b[0m \u001b[38;5;66;03m# Cell 5: Execute the main function\u001b[39;00m\n\u001b[0;32m---> 84\u001b[0m \u001b[38;5;28;01mawait\u001b[39;00m run_as_main()\n",
      "Cell \u001b[0;32mIn[33], line 80\u001b[0m, in \u001b[0;36mrun_as_main\u001b[0;34m()\u001b[0m\n\u001b[1;32m     73\u001b[0m \u001b[38;5;28;01masync\u001b[39;00m \u001b[38;5;28;01mdef\u001b[39;00m \u001b[38;5;21mrun_as_main\u001b[39m():\n\u001b[1;32m     74\u001b[0m     test_state \u001b[38;5;241m=\u001b[39m PlanExecuteState(\n\u001b[1;32m     75\u001b[0m         \u001b[38;5;28minput\u001b[39m\u001b[38;5;241m=\u001b[39m\u001b[38;5;124m'\u001b[39m\u001b[38;5;124mOrder a vegetarian pizza in Munich and have it delivered to Arcisstraße 21, Munich. A human will pay the delivery person upon arrival.\u001b[39m\u001b[38;5;124m'\u001b[39m,\n\u001b[1;32m     76\u001b[0m         plan\u001b[38;5;241m=\u001b[39m\u001b[38;5;28;01mNone\u001b[39;00m,\n\u001b[1;32m     77\u001b[0m         past_steps\u001b[38;5;241m=\u001b[39m\u001b[38;5;28;01mNone\u001b[39;00m,\n\u001b[1;32m     78\u001b[0m         response\u001b[38;5;241m=\u001b[39m\u001b[38;5;28;01mNone\u001b[39;00m,\n\u001b[1;32m     79\u001b[0m     )\n\u001b[0;32m---> 80\u001b[0m     test_return \u001b[38;5;241m=\u001b[39m \u001b[38;5;28;01mawait\u001b[39;00m plan_step(test_state)\n\u001b[1;32m     81\u001b[0m     \u001b[38;5;28mprint\u001b[39m(test_return)\n",
      "Cell \u001b[0;32mIn[33], line 56\u001b[0m, in \u001b[0;36mplan_step\u001b[0;34m(state)\u001b[0m\n\u001b[1;32m     54\u001b[0m plan: Plan \u001b[38;5;241m=\u001b[39m Plan\u001b[38;5;241m.\u001b[39mvalidate(response)\n\u001b[1;32m     55\u001b[0m \u001b[38;5;28mprint\u001b[39m(plan)\n\u001b[0;32m---> 56\u001b[0m solution_agent \u001b[38;5;241m=\u001b[39m \u001b[43mSolutionAgent\u001b[49m\u001b[43m(\u001b[49m\n\u001b[1;32m     57\u001b[0m \u001b[43m    \u001b[49m\u001b[43mn_models\u001b[49m\u001b[38;5;241;43m=\u001b[39;49m\u001b[38;5;241;43m1\u001b[39;49m\u001b[43m,\u001b[49m\n\u001b[1;32m     58\u001b[0m \u001b[43m    \u001b[49m\u001b[43mmodel\u001b[49m\u001b[38;5;241;43m=\u001b[39;49m\u001b[38;5;124;43m'\u001b[39;49m\u001b[38;5;124;43mgpt-4o-mini\u001b[39;49m\u001b[38;5;124;43m'\u001b[39;49m\u001b[43m,\u001b[49m\n\u001b[1;32m     59\u001b[0m \u001b[43m\u001b[49m\u001b[43m)\u001b[49m\n\u001b[1;32m     60\u001b[0m \u001b[38;5;28mprint\u001b[39m(plan\u001b[38;5;241m.\u001b[39mmessage[\u001b[38;5;241m0\u001b[39m])\n\u001b[1;32m     61\u001b[0m solution \u001b[38;5;241m=\u001b[39m \u001b[38;5;28;01mawait\u001b[39;00m solution_agent\u001b[38;5;241m.\u001b[39mainvoke(\n\u001b[1;32m     62\u001b[0m     {\u001b[38;5;124m'\u001b[39m\u001b[38;5;124magent_scratchpad\u001b[39m\u001b[38;5;124m'\u001b[39m: \u001b[38;5;124m'\u001b[39m\u001b[38;5;124m'\u001b[39m, \u001b[38;5;124m'\u001b[39m\u001b[38;5;124mn_models\u001b[39m\u001b[38;5;124m'\u001b[39m: \u001b[38;5;241m1\u001b[39m, \u001b[38;5;124m'\u001b[39m\u001b[38;5;124mtask_step\u001b[39m\u001b[38;5;124m'\u001b[39m: plan\u001b[38;5;241m.\u001b[39mmessage[\u001b[38;5;241m0\u001b[39m]}\n\u001b[1;32m     63\u001b[0m )\n",
      "File \u001b[0;32m~/Documents/Code/orchestrator-1/orchestrator/models/solution_agent.py:43\u001b[0m, in \u001b[0;36mSolutionAgent.__init__\u001b[0;34m(self, n_models, model, temperature, top_p, agent_scratchpad)\u001b[0m\n\u001b[1;32m     39\u001b[0m \u001b[38;5;28mself\u001b[39m\u001b[38;5;241m.\u001b[39magent_scratchpad \u001b[38;5;241m=\u001b[39m agent_scratchpad\n\u001b[1;32m     40\u001b[0m \u001b[38;5;28mself\u001b[39m\u001b[38;5;241m.\u001b[39mprompt \u001b[38;5;241m=\u001b[39m PromptTemplate(\n\u001b[1;32m     41\u001b[0m     template\u001b[38;5;241m=\u001b[39m\u001b[38;5;28mself\u001b[39m\u001b[38;5;241m.\u001b[39mprompt_template, input_variables\u001b[38;5;241m=\u001b[39m\u001b[38;5;28mself\u001b[39m\u001b[38;5;241m.\u001b[39minput_variables\n\u001b[1;32m     42\u001b[0m )\n\u001b[0;32m---> 43\u001b[0m \u001b[38;5;28mself\u001b[39m\u001b[38;5;241m.\u001b[39mmodel \u001b[38;5;241m=\u001b[39m \u001b[38;5;28;43mself\u001b[39;49m\u001b[38;5;241;43m.\u001b[39;49m\u001b[43mllm\u001b[49m\u001b[38;5;241;43m.\u001b[39;49m\u001b[43mwith_structured_output\u001b[49m\u001b[43m(\u001b[49m\u001b[43mschema\u001b[49m\u001b[38;5;241;43m=\u001b[39;49m\u001b[43mSolution\u001b[49m\u001b[43m,\u001b[49m\u001b[43m \u001b[49m\u001b[43minclude_raw\u001b[49m\u001b[38;5;241;43m=\u001b[39;49m\u001b[38;5;28;43;01mFalse\u001b[39;49;00m\u001b[43m)\u001b[49m\n\u001b[1;32m     44\u001b[0m \u001b[38;5;28mself\u001b[39m\u001b[38;5;241m.\u001b[39magent_runnable \u001b[38;5;241m=\u001b[39m \u001b[38;5;28mself\u001b[39m\u001b[38;5;241m.\u001b[39mprompt \u001b[38;5;241m|\u001b[39m \u001b[38;5;28mself\u001b[39m\u001b[38;5;241m.\u001b[39mmodel\n",
      "File \u001b[0;32m~/anaconda3/envs/myenv/lib/python3.12/site-packages/langchain_openai/chat_models/base.py:1148\u001b[0m, in \u001b[0;36mBaseChatOpenAI.with_structured_output\u001b[0;34m(self, schema, method, include_raw, **kwargs)\u001b[0m\n\u001b[1;32m   1143\u001b[0m \u001b[38;5;28;01mif\u001b[39;00m schema \u001b[38;5;129;01mis\u001b[39;00m \u001b[38;5;28;01mNone\u001b[39;00m:\n\u001b[1;32m   1144\u001b[0m     \u001b[38;5;28;01mraise\u001b[39;00m \u001b[38;5;167;01mValueError\u001b[39;00m(\n\u001b[1;32m   1145\u001b[0m         \u001b[38;5;124m\"\u001b[39m\u001b[38;5;124mschema must be specified when method is \u001b[39m\u001b[38;5;124m'\u001b[39m\u001b[38;5;124mfunction_calling\u001b[39m\u001b[38;5;124m'\u001b[39m\u001b[38;5;124m. \u001b[39m\u001b[38;5;124m\"\u001b[39m\n\u001b[1;32m   1146\u001b[0m         \u001b[38;5;124m\"\u001b[39m\u001b[38;5;124mReceived None.\u001b[39m\u001b[38;5;124m\"\u001b[39m\n\u001b[1;32m   1147\u001b[0m     )\n\u001b[0;32m-> 1148\u001b[0m tool_name \u001b[38;5;241m=\u001b[39m \u001b[43mconvert_to_openai_tool\u001b[49m\u001b[43m(\u001b[49m\u001b[43mschema\u001b[49m\u001b[43m)\u001b[49m[\u001b[38;5;124m\"\u001b[39m\u001b[38;5;124mfunction\u001b[39m\u001b[38;5;124m\"\u001b[39m][\u001b[38;5;124m\"\u001b[39m\u001b[38;5;124mname\u001b[39m\u001b[38;5;124m\"\u001b[39m]\n\u001b[1;32m   1149\u001b[0m llm \u001b[38;5;241m=\u001b[39m \u001b[38;5;28mself\u001b[39m\u001b[38;5;241m.\u001b[39mbind_tools(\n\u001b[1;32m   1150\u001b[0m     [schema], tool_choice\u001b[38;5;241m=\u001b[39mtool_name, parallel_tool_calls\u001b[38;5;241m=\u001b[39m\u001b[38;5;28;01mFalse\u001b[39;00m\n\u001b[1;32m   1151\u001b[0m )\n\u001b[1;32m   1152\u001b[0m \u001b[38;5;28;01mif\u001b[39;00m is_pydantic_schema:\n",
      "File \u001b[0;32m~/anaconda3/envs/myenv/lib/python3.12/site-packages/langchain_core/utils/function_calling.py:259\u001b[0m, in \u001b[0;36mconvert_to_openai_tool\u001b[0;34m(tool)\u001b[0m\n\u001b[1;32m    257\u001b[0m \u001b[38;5;28;01mif\u001b[39;00m \u001b[38;5;28misinstance\u001b[39m(tool, \u001b[38;5;28mdict\u001b[39m) \u001b[38;5;129;01mand\u001b[39;00m tool\u001b[38;5;241m.\u001b[39mget(\u001b[38;5;124m\"\u001b[39m\u001b[38;5;124mtype\u001b[39m\u001b[38;5;124m\"\u001b[39m) \u001b[38;5;241m==\u001b[39m \u001b[38;5;124m\"\u001b[39m\u001b[38;5;124mfunction\u001b[39m\u001b[38;5;124m\"\u001b[39m \u001b[38;5;129;01mand\u001b[39;00m \u001b[38;5;124m\"\u001b[39m\u001b[38;5;124mfunction\u001b[39m\u001b[38;5;124m\"\u001b[39m \u001b[38;5;129;01min\u001b[39;00m tool:\n\u001b[1;32m    258\u001b[0m     \u001b[38;5;28;01mreturn\u001b[39;00m tool\n\u001b[0;32m--> 259\u001b[0m function \u001b[38;5;241m=\u001b[39m \u001b[43mconvert_to_openai_function\u001b[49m\u001b[43m(\u001b[49m\u001b[43mtool\u001b[49m\u001b[43m)\u001b[49m\n\u001b[1;32m    260\u001b[0m \u001b[38;5;28;01mreturn\u001b[39;00m {\u001b[38;5;124m\"\u001b[39m\u001b[38;5;124mtype\u001b[39m\u001b[38;5;124m\"\u001b[39m: \u001b[38;5;124m\"\u001b[39m\u001b[38;5;124mfunction\u001b[39m\u001b[38;5;124m\"\u001b[39m, \u001b[38;5;124m\"\u001b[39m\u001b[38;5;124mfunction\u001b[39m\u001b[38;5;124m\"\u001b[39m: function}\n",
      "File \u001b[0;32m~/anaconda3/envs/myenv/lib/python3.12/site-packages/langchain_core/utils/function_calling.py:228\u001b[0m, in \u001b[0;36mconvert_to_openai_function\u001b[0;34m(function)\u001b[0m\n\u001b[1;32m    222\u001b[0m     \u001b[38;5;28;01mreturn\u001b[39;00m {\n\u001b[1;32m    223\u001b[0m         \u001b[38;5;124m\"\u001b[39m\u001b[38;5;124mname\u001b[39m\u001b[38;5;124m\"\u001b[39m: function\u001b[38;5;241m.\u001b[39mpop(\u001b[38;5;124m\"\u001b[39m\u001b[38;5;124mtitle\u001b[39m\u001b[38;5;124m\"\u001b[39m),\n\u001b[1;32m    224\u001b[0m         \u001b[38;5;124m\"\u001b[39m\u001b[38;5;124mdescription\u001b[39m\u001b[38;5;124m\"\u001b[39m: function\u001b[38;5;241m.\u001b[39mpop(\u001b[38;5;124m\"\u001b[39m\u001b[38;5;124mdescription\u001b[39m\u001b[38;5;124m\"\u001b[39m),\n\u001b[1;32m    225\u001b[0m         \u001b[38;5;124m\"\u001b[39m\u001b[38;5;124mparameters\u001b[39m\u001b[38;5;124m\"\u001b[39m: function,\n\u001b[1;32m    226\u001b[0m     }\n\u001b[1;32m    227\u001b[0m \u001b[38;5;28;01melif\u001b[39;00m \u001b[38;5;28misinstance\u001b[39m(function, \u001b[38;5;28mtype\u001b[39m) \u001b[38;5;129;01mand\u001b[39;00m \u001b[38;5;28missubclass\u001b[39m(function, BaseModel):\n\u001b[0;32m--> 228\u001b[0m     \u001b[38;5;28;01mreturn\u001b[39;00m cast(Dict, \u001b[43mconvert_pydantic_to_openai_function\u001b[49m\u001b[43m(\u001b[49m\u001b[43mfunction\u001b[49m\u001b[43m)\u001b[49m)\n\u001b[1;32m    229\u001b[0m \u001b[38;5;28;01melif\u001b[39;00m \u001b[38;5;28misinstance\u001b[39m(function, BaseTool):\n\u001b[1;32m    230\u001b[0m     \u001b[38;5;28;01mreturn\u001b[39;00m cast(Dict, format_tool_to_openai_function(function))\n",
      "File \u001b[0;32m~/anaconda3/envs/myenv/lib/python3.12/site-packages/langchain_core/_api/deprecation.py:168\u001b[0m, in \u001b[0;36mdeprecated.<locals>.deprecate.<locals>.warning_emitting_wrapper\u001b[0;34m(*args, **kwargs)\u001b[0m\n\u001b[1;32m    166\u001b[0m     warned \u001b[38;5;241m=\u001b[39m \u001b[38;5;28;01mTrue\u001b[39;00m\n\u001b[1;32m    167\u001b[0m     emit_warning()\n\u001b[0;32m--> 168\u001b[0m \u001b[38;5;28;01mreturn\u001b[39;00m \u001b[43mwrapped\u001b[49m\u001b[43m(\u001b[49m\u001b[38;5;241;43m*\u001b[39;49m\u001b[43margs\u001b[49m\u001b[43m,\u001b[49m\u001b[43m \u001b[49m\u001b[38;5;241;43m*\u001b[39;49m\u001b[38;5;241;43m*\u001b[39;49m\u001b[43mkwargs\u001b[49m\u001b[43m)\u001b[49m\n",
      "File \u001b[0;32m~/anaconda3/envs/myenv/lib/python3.12/site-packages/langchain_core/utils/function_calling.py:89\u001b[0m, in \u001b[0;36mconvert_pydantic_to_openai_function\u001b[0;34m(model, name, description, rm_titles)\u001b[0m\n\u001b[1;32m     76\u001b[0m \u001b[38;5;129m@deprecated\u001b[39m(\n\u001b[1;32m     77\u001b[0m     \u001b[38;5;124m\"\u001b[39m\u001b[38;5;124m0.1.16\u001b[39m\u001b[38;5;124m\"\u001b[39m,\n\u001b[1;32m     78\u001b[0m     alternative\u001b[38;5;241m=\u001b[39m\u001b[38;5;124m\"\u001b[39m\u001b[38;5;124mlangchain_core.utils.function_calling.convert_to_openai_function()\u001b[39m\u001b[38;5;124m\"\u001b[39m,\n\u001b[0;32m   (...)\u001b[0m\n\u001b[1;32m     86\u001b[0m     rm_titles: \u001b[38;5;28mbool\u001b[39m \u001b[38;5;241m=\u001b[39m \u001b[38;5;28;01mTrue\u001b[39;00m,\n\u001b[1;32m     87\u001b[0m ) \u001b[38;5;241m-\u001b[39m\u001b[38;5;241m>\u001b[39m FunctionDescription:\n\u001b[1;32m     88\u001b[0m \u001b[38;5;250m    \u001b[39m\u001b[38;5;124;03m\"\"\"Converts a Pydantic model to a function description for the OpenAI API.\"\"\"\u001b[39;00m\n\u001b[0;32m---> 89\u001b[0m     schema \u001b[38;5;241m=\u001b[39m dereference_refs(\u001b[43mmodel\u001b[49m\u001b[38;5;241;43m.\u001b[39;49m\u001b[43mschema\u001b[49m\u001b[43m(\u001b[49m\u001b[43m)\u001b[49m)\n\u001b[1;32m     90\u001b[0m     schema\u001b[38;5;241m.\u001b[39mpop(\u001b[38;5;124m\"\u001b[39m\u001b[38;5;124mdefinitions\u001b[39m\u001b[38;5;124m\"\u001b[39m, \u001b[38;5;28;01mNone\u001b[39;00m)\n\u001b[1;32m     91\u001b[0m     title \u001b[38;5;241m=\u001b[39m schema\u001b[38;5;241m.\u001b[39mpop(\u001b[38;5;124m\"\u001b[39m\u001b[38;5;124mtitle\u001b[39m\u001b[38;5;124m\"\u001b[39m, \u001b[38;5;124m\"\u001b[39m\u001b[38;5;124m\"\u001b[39m)\n",
      "File \u001b[0;32m~/anaconda3/envs/myenv/lib/python3.12/site-packages/pydantic/v1/main.py:664\u001b[0m, in \u001b[0;36mBaseModel.schema\u001b[0;34m(cls, by_alias, ref_template)\u001b[0m\n\u001b[1;32m    662\u001b[0m \u001b[38;5;28;01mif\u001b[39;00m cached \u001b[38;5;129;01mis\u001b[39;00m \u001b[38;5;129;01mnot\u001b[39;00m \u001b[38;5;28;01mNone\u001b[39;00m:\n\u001b[1;32m    663\u001b[0m     \u001b[38;5;28;01mreturn\u001b[39;00m cached\n\u001b[0;32m--> 664\u001b[0m s \u001b[38;5;241m=\u001b[39m \u001b[43mmodel_schema\u001b[49m\u001b[43m(\u001b[49m\u001b[38;5;28;43mcls\u001b[39;49m\u001b[43m,\u001b[49m\u001b[43m \u001b[49m\u001b[43mby_alias\u001b[49m\u001b[38;5;241;43m=\u001b[39;49m\u001b[43mby_alias\u001b[49m\u001b[43m,\u001b[49m\u001b[43m \u001b[49m\u001b[43mref_template\u001b[49m\u001b[38;5;241;43m=\u001b[39;49m\u001b[43mref_template\u001b[49m\u001b[43m)\u001b[49m\n\u001b[1;32m    665\u001b[0m \u001b[38;5;28mcls\u001b[39m\u001b[38;5;241m.\u001b[39m__schema_cache__[(by_alias, ref_template)] \u001b[38;5;241m=\u001b[39m s\n\u001b[1;32m    666\u001b[0m \u001b[38;5;28;01mreturn\u001b[39;00m s\n",
      "File \u001b[0;32m~/anaconda3/envs/myenv/lib/python3.12/site-packages/pydantic/v1/schema.py:188\u001b[0m, in \u001b[0;36mmodel_schema\u001b[0;34m(model, by_alias, ref_prefix, ref_template)\u001b[0m\n\u001b[1;32m    186\u001b[0m model_name_map \u001b[38;5;241m=\u001b[39m get_model_name_map(flat_models)\n\u001b[1;32m    187\u001b[0m model_name \u001b[38;5;241m=\u001b[39m model_name_map[model]\n\u001b[0;32m--> 188\u001b[0m m_schema, m_definitions, nested_models \u001b[38;5;241m=\u001b[39m \u001b[43mmodel_process_schema\u001b[49m\u001b[43m(\u001b[49m\n\u001b[1;32m    189\u001b[0m \u001b[43m    \u001b[49m\u001b[43mmodel\u001b[49m\u001b[43m,\u001b[49m\u001b[43m \u001b[49m\u001b[43mby_alias\u001b[49m\u001b[38;5;241;43m=\u001b[39;49m\u001b[43mby_alias\u001b[49m\u001b[43m,\u001b[49m\u001b[43m \u001b[49m\u001b[43mmodel_name_map\u001b[49m\u001b[38;5;241;43m=\u001b[39;49m\u001b[43mmodel_name_map\u001b[49m\u001b[43m,\u001b[49m\u001b[43m \u001b[49m\u001b[43mref_prefix\u001b[49m\u001b[38;5;241;43m=\u001b[39;49m\u001b[43mref_prefix\u001b[49m\u001b[43m,\u001b[49m\u001b[43m \u001b[49m\u001b[43mref_template\u001b[49m\u001b[38;5;241;43m=\u001b[39;49m\u001b[43mref_template\u001b[49m\n\u001b[1;32m    190\u001b[0m \u001b[43m\u001b[49m\u001b[43m)\u001b[49m\n\u001b[1;32m    191\u001b[0m \u001b[38;5;28;01mif\u001b[39;00m model_name \u001b[38;5;129;01min\u001b[39;00m nested_models:\n\u001b[1;32m    192\u001b[0m     \u001b[38;5;66;03m# model_name is in Nested models, it has circular references\u001b[39;00m\n\u001b[1;32m    193\u001b[0m     m_definitions[model_name] \u001b[38;5;241m=\u001b[39m m_schema\n",
      "File \u001b[0;32m~/anaconda3/envs/myenv/lib/python3.12/site-packages/pydantic/v1/schema.py:581\u001b[0m, in \u001b[0;36mmodel_process_schema\u001b[0;34m(model, by_alias, model_name_map, ref_prefix, ref_template, known_models, field)\u001b[0m\n\u001b[1;32m    579\u001b[0m     s[\u001b[38;5;124m'\u001b[39m\u001b[38;5;124mdescription\u001b[39m\u001b[38;5;124m'\u001b[39m] \u001b[38;5;241m=\u001b[39m doc\n\u001b[1;32m    580\u001b[0m known_models\u001b[38;5;241m.\u001b[39madd(model)\n\u001b[0;32m--> 581\u001b[0m m_schema, m_definitions, nested_models \u001b[38;5;241m=\u001b[39m \u001b[43mmodel_type_schema\u001b[49m\u001b[43m(\u001b[49m\n\u001b[1;32m    582\u001b[0m \u001b[43m    \u001b[49m\u001b[43mmodel\u001b[49m\u001b[43m,\u001b[49m\n\u001b[1;32m    583\u001b[0m \u001b[43m    \u001b[49m\u001b[43mby_alias\u001b[49m\u001b[38;5;241;43m=\u001b[39;49m\u001b[43mby_alias\u001b[49m\u001b[43m,\u001b[49m\n\u001b[1;32m    584\u001b[0m \u001b[43m    \u001b[49m\u001b[43mmodel_name_map\u001b[49m\u001b[38;5;241;43m=\u001b[39;49m\u001b[43mmodel_name_map\u001b[49m\u001b[43m,\u001b[49m\n\u001b[1;32m    585\u001b[0m \u001b[43m    \u001b[49m\u001b[43mref_prefix\u001b[49m\u001b[38;5;241;43m=\u001b[39;49m\u001b[43mref_prefix\u001b[49m\u001b[43m,\u001b[49m\n\u001b[1;32m    586\u001b[0m \u001b[43m    \u001b[49m\u001b[43mref_template\u001b[49m\u001b[38;5;241;43m=\u001b[39;49m\u001b[43mref_template\u001b[49m\u001b[43m,\u001b[49m\n\u001b[1;32m    587\u001b[0m \u001b[43m    \u001b[49m\u001b[43mknown_models\u001b[49m\u001b[38;5;241;43m=\u001b[39;49m\u001b[43mknown_models\u001b[49m\u001b[43m,\u001b[49m\n\u001b[1;32m    588\u001b[0m \u001b[43m\u001b[49m\u001b[43m)\u001b[49m\n\u001b[1;32m    589\u001b[0m s\u001b[38;5;241m.\u001b[39mupdate(m_schema)\n\u001b[1;32m    590\u001b[0m schema_extra \u001b[38;5;241m=\u001b[39m model\u001b[38;5;241m.\u001b[39m__config__\u001b[38;5;241m.\u001b[39mschema_extra\n",
      "File \u001b[0;32m~/anaconda3/envs/myenv/lib/python3.12/site-packages/pydantic/v1/schema.py:622\u001b[0m, in \u001b[0;36mmodel_type_schema\u001b[0;34m(model, by_alias, model_name_map, ref_template, ref_prefix, known_models)\u001b[0m\n\u001b[1;32m    620\u001b[0m \u001b[38;5;28;01mfor\u001b[39;00m k, f \u001b[38;5;129;01min\u001b[39;00m model\u001b[38;5;241m.\u001b[39m__fields__\u001b[38;5;241m.\u001b[39mitems():\n\u001b[1;32m    621\u001b[0m     \u001b[38;5;28;01mtry\u001b[39;00m:\n\u001b[0;32m--> 622\u001b[0m         f_schema, f_definitions, f_nested_models \u001b[38;5;241m=\u001b[39m \u001b[43mfield_schema\u001b[49m\u001b[43m(\u001b[49m\n\u001b[1;32m    623\u001b[0m \u001b[43m            \u001b[49m\u001b[43mf\u001b[49m\u001b[43m,\u001b[49m\n\u001b[1;32m    624\u001b[0m \u001b[43m            \u001b[49m\u001b[43mby_alias\u001b[49m\u001b[38;5;241;43m=\u001b[39;49m\u001b[43mby_alias\u001b[49m\u001b[43m,\u001b[49m\n\u001b[1;32m    625\u001b[0m \u001b[43m            \u001b[49m\u001b[43mmodel_name_map\u001b[49m\u001b[38;5;241;43m=\u001b[39;49m\u001b[43mmodel_name_map\u001b[49m\u001b[43m,\u001b[49m\n\u001b[1;32m    626\u001b[0m \u001b[43m            \u001b[49m\u001b[43mref_prefix\u001b[49m\u001b[38;5;241;43m=\u001b[39;49m\u001b[43mref_prefix\u001b[49m\u001b[43m,\u001b[49m\n\u001b[1;32m    627\u001b[0m \u001b[43m            \u001b[49m\u001b[43mref_template\u001b[49m\u001b[38;5;241;43m=\u001b[39;49m\u001b[43mref_template\u001b[49m\u001b[43m,\u001b[49m\n\u001b[1;32m    628\u001b[0m \u001b[43m            \u001b[49m\u001b[43mknown_models\u001b[49m\u001b[38;5;241;43m=\u001b[39;49m\u001b[43mknown_models\u001b[49m\u001b[43m,\u001b[49m\n\u001b[1;32m    629\u001b[0m \u001b[43m        \u001b[49m\u001b[43m)\u001b[49m\n\u001b[1;32m    630\u001b[0m     \u001b[38;5;28;01mexcept\u001b[39;00m SkipField \u001b[38;5;28;01mas\u001b[39;00m skip:\n\u001b[1;32m    631\u001b[0m         warnings\u001b[38;5;241m.\u001b[39mwarn(skip\u001b[38;5;241m.\u001b[39mmessage, \u001b[38;5;167;01mUserWarning\u001b[39;00m)\n",
      "File \u001b[0;32m~/anaconda3/envs/myenv/lib/python3.12/site-packages/pydantic/v1/schema.py:248\u001b[0m, in \u001b[0;36mfield_schema\u001b[0;34m(field, by_alias, model_name_map, ref_prefix, ref_template, known_models)\u001b[0m\n\u001b[1;32m    222\u001b[0m \u001b[38;5;28;01mdef\u001b[39;00m \u001b[38;5;21mfield_schema\u001b[39m(\n\u001b[1;32m    223\u001b[0m     field: ModelField,\n\u001b[1;32m    224\u001b[0m     \u001b[38;5;241m*\u001b[39m,\n\u001b[0;32m   (...)\u001b[0m\n\u001b[1;32m    229\u001b[0m     known_models: Optional[TypeModelSet] \u001b[38;5;241m=\u001b[39m \u001b[38;5;28;01mNone\u001b[39;00m,\n\u001b[1;32m    230\u001b[0m ) \u001b[38;5;241m-\u001b[39m\u001b[38;5;241m>\u001b[39m Tuple[Dict[\u001b[38;5;28mstr\u001b[39m, Any], Dict[\u001b[38;5;28mstr\u001b[39m, Any], Set[\u001b[38;5;28mstr\u001b[39m]]:\n\u001b[1;32m    231\u001b[0m \u001b[38;5;250m    \u001b[39m\u001b[38;5;124;03m\"\"\"\u001b[39;00m\n\u001b[1;32m    232\u001b[0m \u001b[38;5;124;03m    Process a Pydantic field and return a tuple with a JSON Schema for it as the first item.\u001b[39;00m\n\u001b[1;32m    233\u001b[0m \u001b[38;5;124;03m    Also return a dictionary of definitions with models as keys and their schemas as values. If the passed field\u001b[39;00m\n\u001b[0;32m   (...)\u001b[0m\n\u001b[1;32m    246\u001b[0m \u001b[38;5;124;03m    :return: tuple of the schema for this field and additional definitions\u001b[39;00m\n\u001b[1;32m    247\u001b[0m \u001b[38;5;124;03m    \"\"\"\u001b[39;00m\n\u001b[0;32m--> 248\u001b[0m     s, schema_overrides \u001b[38;5;241m=\u001b[39m \u001b[43mget_field_info_schema\u001b[49m\u001b[43m(\u001b[49m\u001b[43mfield\u001b[49m\u001b[43m)\u001b[49m\n\u001b[1;32m    250\u001b[0m     validation_schema \u001b[38;5;241m=\u001b[39m get_field_schema_validations(field)\n\u001b[1;32m    251\u001b[0m     \u001b[38;5;28;01mif\u001b[39;00m validation_schema:\n",
      "File \u001b[0;32m~/anaconda3/envs/myenv/lib/python3.12/site-packages/pydantic/v1/schema.py:216\u001b[0m, in \u001b[0;36mget_field_info_schema\u001b[0;34m(field, schema_overrides)\u001b[0m\n\u001b[1;32m    213\u001b[0m     schema_overrides \u001b[38;5;241m=\u001b[39m \u001b[38;5;28;01mTrue\u001b[39;00m\n\u001b[1;32m    215\u001b[0m \u001b[38;5;28;01mif\u001b[39;00m \u001b[38;5;129;01mnot\u001b[39;00m field\u001b[38;5;241m.\u001b[39mrequired \u001b[38;5;129;01mand\u001b[39;00m field\u001b[38;5;241m.\u001b[39mdefault \u001b[38;5;129;01mis\u001b[39;00m \u001b[38;5;129;01mnot\u001b[39;00m \u001b[38;5;28;01mNone\u001b[39;00m \u001b[38;5;129;01mand\u001b[39;00m \u001b[38;5;129;01mnot\u001b[39;00m is_callable_type(field\u001b[38;5;241m.\u001b[39mouter_type_):\n\u001b[0;32m--> 216\u001b[0m     schema_[\u001b[38;5;124m'\u001b[39m\u001b[38;5;124mdefault\u001b[39m\u001b[38;5;124m'\u001b[39m] \u001b[38;5;241m=\u001b[39m \u001b[43mencode_default\u001b[49m\u001b[43m(\u001b[49m\u001b[43mfield\u001b[49m\u001b[38;5;241;43m.\u001b[39;49m\u001b[43mdefault\u001b[49m\u001b[43m)\u001b[49m\n\u001b[1;32m    217\u001b[0m     schema_overrides \u001b[38;5;241m=\u001b[39m \u001b[38;5;28;01mTrue\u001b[39;00m\n\u001b[1;32m    219\u001b[0m \u001b[38;5;28;01mreturn\u001b[39;00m schema_, schema_overrides\n",
      "File \u001b[0;32m~/anaconda3/envs/myenv/lib/python3.12/site-packages/pydantic/v1/schema.py:995\u001b[0m, in \u001b[0;36mencode_default\u001b[0;34m(dft)\u001b[0m\n\u001b[1;32m    993\u001b[0m     \u001b[38;5;28;01mreturn\u001b[39;00m \u001b[38;5;28;01mNone\u001b[39;00m\n\u001b[1;32m    994\u001b[0m \u001b[38;5;28;01melse\u001b[39;00m:\n\u001b[0;32m--> 995\u001b[0m     \u001b[38;5;28;01mreturn\u001b[39;00m \u001b[43mpydantic_encoder\u001b[49m\u001b[43m(\u001b[49m\u001b[43mdft\u001b[49m\u001b[43m)\u001b[49m\n",
      "File \u001b[0;32m~/anaconda3/envs/myenv/lib/python3.12/site-packages/pydantic/v1/json.py:90\u001b[0m, in \u001b[0;36mpydantic_encoder\u001b[0;34m(obj)\u001b[0m\n\u001b[1;32m     88\u001b[0m     \u001b[38;5;28;01mreturn\u001b[39;00m encoder(obj)\n\u001b[1;32m     89\u001b[0m \u001b[38;5;28;01melse\u001b[39;00m:  \u001b[38;5;66;03m# We have exited the for loop without finding a suitable encoder\u001b[39;00m\n\u001b[0;32m---> 90\u001b[0m     \u001b[38;5;28;01mraise\u001b[39;00m \u001b[38;5;167;01mTypeError\u001b[39;00m(\u001b[38;5;124mf\u001b[39m\u001b[38;5;124m\"\u001b[39m\u001b[38;5;124mObject of type \u001b[39m\u001b[38;5;124m'\u001b[39m\u001b[38;5;132;01m{\u001b[39;00mobj\u001b[38;5;241m.\u001b[39m\u001b[38;5;18m__class__\u001b[39m\u001b[38;5;241m.\u001b[39m\u001b[38;5;18m__name__\u001b[39m\u001b[38;5;132;01m}\u001b[39;00m\u001b[38;5;124m'\u001b[39m\u001b[38;5;124m is not JSON serializable\u001b[39m\u001b[38;5;124m\"\u001b[39m)\n",
      "\u001b[0;31mTypeError\u001b[0m: Object of type 'FieldInfo' is not JSON serializable"
     ]
    }
   ],
   "source": [
    "# Cell 1: Imports and setup\n",
    "import asyncio\n",
    "import nest_asyncio\n",
    "from dataclasses import replace\n",
    "from langchain_core.prompts import ChatPromptTemplate\n",
    "from pydantic.v1 import ValidationError\n",
    "import os\n",
    "from orchestrator.models.models import planner_model\n",
    "from orchestrator.models.sequence_planner import SequencePlanner\n",
    "from orchestrator.models.solution_agent import SolutionAgent\n",
    "from orchestrator.types.plan import Plan\n",
    "from orchestrator.types.plan_execute_state import PlanEntry, PlanExecuteState\n",
    "\n",
    "nest_asyncio.apply()\n",
    "\n",
    "# Cell 2: Define planner prompt and chain\n",
    "planner_prompt = ChatPromptTemplate.from_messages(\n",
    "    [\n",
    "        (\n",
    "            'system',\n",
    "            \"\"\"For the given objective, come up with a simple step by step plan. \\\n",
    "            This plan should involve individual tasks, that if executed correctly will yield the correct answer. Do not add any superfluous steps. \\\n",
    "            The result of the final step should be the final answer. Make sure that each step has all the information needed - do not skip steps.\"\"\",\n",
    "        ),\n",
    "        ('human', '{objective}'),\n",
    "    ]\n",
    ")\n",
    "\n",
    "planner_prompt = ChatPromptTemplate.from_messages(\n",
    "    [\n",
    "        (\n",
    "            'system',\n",
    "            \"\"\"For the given objective, come up with a simple step by step plan. \\\n",
    "This plan should involve individual tasks, that if executed correctly will yield the correct answer. Do not add any superfluous steps. \\\n",
    "The result of the final step should be the final answer. Make sure that each step has all the information needed - do not skip steps.\"\"\",\n",
    "        ),\n",
    "        ('human', '{objective}'),\n",
    "    ]\n",
    ")\n",
    "\n",
    "model = planner_model.with_structured_output(schema=Plan, include_raw=False)\n",
    "\n",
    "planner_chain = planner_prompt | model\n",
    "\n",
    "\n",
    "async def plan_step(state: PlanExecuteState):\n",
    "    planner = SequencePlanner(\n",
    "        n_models=1, system_task=state.input, output_schema=Plan, model='gpt-4o-mini'\n",
    "    )\n",
    "    response = await planner.agent_runnable.ainvoke(\n",
    "        {'agent_scratchpad': '', 'n_models': 1, 'system_task': state.input}\n",
    "    )\n",
    "    try:\n",
    "        plan: Plan = Plan.validate(response)\n",
    "        print(plan)\n",
    "        solution_agent = SolutionAgent(\n",
    "            n_models=1,\n",
    "            model='gpt-4o-mini',\n",
    "        )\n",
    "        print(plan.message[0])\n",
    "        solution = await solution_agent.ainvoke(\n",
    "            {'agent_scratchpad': '', 'n_models': 1, 'task_step': plan.message[0]}\n",
    "        )\n",
    "        print(solution)\n",
    "        plan_entry_array = [\n",
    "            PlanEntry(step=step, sub_steps=None) for step in plan.message\n",
    "        ]\n",
    "        return replace(state, plan=plan_entry_array)\n",
    "    except ValidationError as ve:\n",
    "        raise Exception(ve) from ve\n",
    "\n",
    "\n",
    "async def run_as_main():\n",
    "    test_state = PlanExecuteState(\n",
    "        input='Order a vegetarian pizza in Munich and have it delivered to Arcisstraße 21, Munich. A human will pay the delivery person upon arrival.',\n",
    "        plan=None,\n",
    "        past_steps=None,\n",
    "        response=None,\n",
    "    )\n",
    "    test_return = await plan_step(test_state)\n",
    "    print(test_return)\n",
    "\n",
    "# Cell 5: Execute the main function\n",
    "await run_as_main()"
   ]
  },
  {
   "cell_type": "code",
   "execution_count": 31,
   "metadata": {},
   "outputs": [
    {
     "name": "stdout",
     "output_type": "stream",
     "text": [
      "Serialization error: isinstance() arg 2 must be a type, a tuple of types, or a union\n"
     ]
    },
    {
     "name": "stderr",
     "output_type": "stream",
     "text": [
      "/Users/Lukas_1/anaconda3/envs/myenv/lib/python3.12/site-packages/langchain_core/utils/utils.py:161: UserWarning: WARNING! top_p is not default parameter.\n",
      "                top_p was transferred to model_kwargs.\n",
      "                Please confirm that top_p is what you intended.\n",
      "  warnings.warn(\n"
     ]
    }
   ],
   "source": [
    "import json\n",
    "from pydantic import BaseModel, Field, ValidationError\n",
    "from typing import List\n",
    "\n",
    "from langchain_core.prompts.prompt import PromptTemplate\n",
    "from langchain_openai import ChatOpenAI\n",
    "from pydantic import Field\n",
    "\n",
    "from orchestrator.types.base_model_config import BaseModelConfig\n",
    "\n",
    "class Solution(BaseModel):\n",
    "    result: str\n",
    "\n",
    "class ChatOpenAI:\n",
    "    def __init__(self, model, temperature, top_p):\n",
    "        self.model = model\n",
    "        self.temperature = temperature\n",
    "        self.top_p = top_p\n",
    "\n",
    "    def with_structured_output(self, schema, include_raw=False):\n",
    "        return schema\n",
    "\n",
    "class SolutionAgent:\n",
    "    # Define Solution Agent Context\n",
    "    prompt_template = \"\"\"\n",
    "    You are one agent in a multi-agent model of {n_models} agents.\n",
    "    It is your job to provide constructive responses your team of agents can work with to solve the task at hand.\n",
    "    Find the solution to the last system output: {task_step}. Your answer should be geared towards solving the task at hand, provide a \"solution:\" object containing the designated answer. \n",
    "    If you find sub_steps are needed to solve the matter, clearly demarcate the .json object as \"steps:\" and list each with bulletpoints. \n",
    "\n",
    "    Here is some useful information: {agent_scratchpad}\n",
    "    \"\"\"\n",
    "\n",
    "    input_variables = ['agent_scratchpad', 'n_models', 'task_step']\n",
    "\n",
    "    def __init__(\n",
    "        self,\n",
    "        n_models: int,\n",
    "        model: str,\n",
    "        temperature: int = 0,\n",
    "        top_p: float = 0.1,\n",
    "        agent_scratchpad: str = '',\n",
    "    ):\n",
    "        self.llm = ChatOpenAI(model=model, temperature=temperature, top_p=top_p)  # type: ignore\n",
    "        self.n_models = n_models\n",
    "        self.agent_scratchpad = agent_scratchpad\n",
    "        self.prompt = PromptTemplate(\n",
    "            template=self.prompt_template, input_variables=self.input_variables\n",
    "        )\n",
    "        self.model = self.llm.with_structured_output(schema=Solution, include_raw=False)\n",
    "        self.agent_runnable = self.prompt | self.model\n",
    "\n",
    "\n",
    "# Custom function to serialize objects\n",
    "def custom_serializer(obj):\n",
    "    if isinstance(obj, Field):\n",
    "        return str(obj)\n",
    "    raise TypeError(f\"Object of type {obj.__class__.__name__} is not JSON serializable\")\n",
    "\n",
    "# Create a SolutionAgent instance\n",
    "solution_agent = SolutionAgent(\n",
    "    n_models=1,\n",
    "    model='gpt-3.5-turbo',\n",
    ")\n",
    "\n",
    "# Attempt to serialize the SolutionAgent object for debugging\n",
    "try:\n",
    "    json_string = json.dumps(solution_agent.__dict__, default=custom_serializer)\n",
    "    print(json_string)\n",
    "except TypeError as e:\n",
    "    print(f\"Serialization error: {e}\")"
   ]
  },
  {
   "cell_type": "code",
   "execution_count": 25,
   "metadata": {},
   "outputs": [
    {
     "data": {
      "text/plain": [
       "{'llm': <__main__.ChatOpenAI at 0x10d0f8d40>,\n",
       " 'n_models': 1,\n",
       " 'agent_scratchpad': '',\n",
       " 'prompt': PromptTemplate(input_variables=['agent_scratchpad', 'n_models', 'task_step'], template='\\n    You are one agent in a multi-agent model of {n_models} agents.\\n    It is your job to provide constructive responses your team of agents can work with to solve the task at hand.\\n    Find the solution to the last system output: {task_step}. Your answer should be geared towards solving the task at hand, provide a \"solution:\" object containing the designated answer. \\n    If you find sub_steps are needed to solve the matter, clearly demarcate the .json object as \"steps:\" and list each with bulletpoints. \\n\\n    Here is some useful information: {agent_scratchpad}\\n    '),\n",
       " 'model': __main__.Solution,\n",
       " 'agent_runnable': PromptTemplate(input_variables=['agent_scratchpad', 'n_models', 'task_step'], template='\\n    You are one agent in a multi-agent model of {n_models} agents.\\n    It is your job to provide constructive responses your team of agents can work with to solve the task at hand.\\n    Find the solution to the last system output: {task_step}. Your answer should be geared towards solving the task at hand, provide a \"solution:\" object containing the designated answer. \\n    If you find sub_steps are needed to solve the matter, clearly demarcate the .json object as \"steps:\" and list each with bulletpoints. \\n\\n    Here is some useful information: {agent_scratchpad}\\n    ')\n",
       " | RunnableLambda(Solution)}"
      ]
     },
     "execution_count": 25,
     "metadata": {},
     "output_type": "execute_result"
    }
   ],
   "source": [
    "solution_agent.__dict__"
   ]
  },
  {
   "cell_type": "code",
   "execution_count": null,
   "metadata": {},
   "outputs": [],
   "source": []
  }
 ],
 "metadata": {
  "kernelspec": {
   "display_name": "myenv",
   "language": "python",
   "name": "python3"
  },
  "language_info": {
   "codemirror_mode": {
    "name": "ipython",
    "version": 3
   },
   "file_extension": ".py",
   "mimetype": "text/x-python",
   "name": "python",
   "nbconvert_exporter": "python",
   "pygments_lexer": "ipython3",
   "version": "3.12.4"
  }
 },
 "nbformat": 4,
 "nbformat_minor": 2
}
